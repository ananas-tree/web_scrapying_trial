{
 "cells": [
  {
   "cell_type": "code",
   "execution_count": 1,
   "id": "2871ff0c-3d4f-4470-a31f-dfefd38c08c7",
   "metadata": {},
   "outputs": [],
   "source": [
    "import requests\n",
    "import pandas as pd\n",
    "from bs4 import BeautifulSoup\n",
    "from IPython.display import Markdown, display"
   ]
  },
  {
   "cell_type": "code",
   "execution_count": 2,
   "id": "5d60a629-0421-4254-b788-9f7da6f9df17",
   "metadata": {},
   "outputs": [],
   "source": [
    "url = \"https://www.vscinemas.com.tw/ShowTimes//ShowTimes/GetShowTimes\"\n",
    "headers = {\n",
    "    \"User-Agent\": \"Mozilla/5.0 (Macintosh; Intel Mac OS X 10_15_7) AppleWebKit/537.36 (KHTML, like Gecko) Chrome/108.0.0.0 Safari/537.36\",\n",
    "    \"X-Requested-With\": \"XMLHttpRequest\"\n",
    "}\n",
    "response = requests.post(url=url, data={\"CinemaCode\": \"TP\"}, headers=headers)\n",
    "\n",
    "soup = BeautifulSoup(response.content)"
   ]
  },
  {
   "cell_type": "code",
   "execution_count": 3,
   "id": "e6a33056-e9e1-4268-95f1-3ec68f24124f",
   "metadata": {},
   "outputs": [],
   "source": [
    "data = []\n",
    "\n",
    "for move_name_strong in soup.find_all(\"strong\",{\"class\", \"col-xs-12 LangTW MovieName\"}):\n",
    "    movie_name = move_name_strong.get_text().strip() # 電影名稱\n",
    "    \n",
    "    time_info_div = move_name_strong.find_next_sibling(\"div\")\n",
    "    show_dates = time_info_div.findChildren(\"strong\", {\"class\", \"col-xs-12 LangTW RealShowDate\"})\n",
    "    \n",
    "    for show_date in show_dates:\n",
    "        show_times = show_date.find_next_sibling(\"div\", {\"class\", \"col-xs-12 SessionTimeInfo\"})\n",
    "        \n",
    "        for show_time in show_times.findChildren(\"div\"):\n",
    "            show_date_string = show_date.get_text().strip() # 播出日期\n",
    "            show_time_string = show_time.get_text().strip() # 時間\n",
    "            data.append([movie_name, show_date_string, show_time_string])\n",
    " "
   ]
  },
  {
   "cell_type": "code",
   "execution_count": 4,
   "id": "9d5d6a4b-f648-4b16-8f26-7e6b3130387e",
   "metadata": {},
   "outputs": [
    {
     "data": {
      "text/markdown": [
       "<h1 style='color:#0081B4'>[strong] col-xs-12 LangTW MovieName</h1>"
      ],
      "text/plain": [
       "<IPython.core.display.Markdown object>"
      ]
     },
     "metadata": {},
     "output_type": "display_data"
    },
    {
     "data": {
      "text/plain": [
       "<strong class=\"col-xs-12 LangTW MovieName\">\n",
       "            (3D 數位)阿凡達：水之道 (保護級)\n",
       "        </strong>"
      ]
     },
     "metadata": {},
     "output_type": "display_data"
    },
    {
     "data": {
      "text/markdown": [
       "<h2 style='color:#0081B4'>電影名稱 get_text</h2>"
      ],
      "text/plain": [
       "<IPython.core.display.Markdown object>"
      ]
     },
     "metadata": {},
     "output_type": "display_data"
    },
    {
     "data": {
      "text/plain": [
       "'(3D 數位)阿凡達：水之道 (保護級)'"
      ]
     },
     "metadata": {},
     "output_type": "display_data"
    },
    {
     "data": {
      "text/markdown": [
       "<h1 style='color:#FF7B54'>time_info_div</h1>"
      ],
      "text/plain": [
       "<IPython.core.display.Markdown object>"
      ]
     },
     "metadata": {},
     "output_type": "display_data"
    },
    {
     "data": {
      "text/plain": [
       "<div class=\"col-xs-12\">\n",
       "<strong class=\"col-xs-12 LangTW RealShowDate\">\n",
       "            01月18日 星期三\n",
       "        </strong>\n",
       "<strong class=\"col-xs-12 LangEN RealShowDate\">\n",
       "            01/18 Wed\n",
       "        </strong>\n",
       "<div class=\"col-xs-12 SessionTimeInfo\">\n",
       "<div class=\"col-xs-0\">\n",
       "                09:00\n",
       "            </div>\n",
       "<div class=\"col-xs-0\">\n",
       "                22:00\n",
       "            </div>\n",
       "</div> <strong class=\"col-xs-12 LangTW RealShowDate\">\n",
       "            01月19日 星期四\n",
       "        </strong>\n",
       "<strong class=\"col-xs-12 LangEN RealShowDate\">\n",
       "            01/19 Thu\n",
       "        </strong>\n",
       "<div class=\"col-xs-12 SessionTimeInfo\">\n",
       "<div class=\"col-xs-0\">\n",
       "                22:00\n",
       "            </div>\n",
       "</div></div>"
      ]
     },
     "metadata": {},
     "output_type": "display_data"
    },
    {
     "data": {
      "text/markdown": [
       "<h1 style='color:#0081B4'>[strong] col-xs-12 LangTW RealShowDate</h1>"
      ],
      "text/plain": [
       "<IPython.core.display.Markdown object>"
      ]
     },
     "metadata": {},
     "output_type": "display_data"
    },
    {
     "data": {
      "text/plain": [
       "[<strong class=\"col-xs-12 LangTW RealShowDate\">\n",
       "             01月18日 星期三\n",
       "         </strong>,\n",
       " <strong class=\"col-xs-12 LangTW RealShowDate\">\n",
       "             01月19日 星期四\n",
       "         </strong>]"
      ]
     },
     "metadata": {},
     "output_type": "display_data"
    },
    {
     "data": {
      "text/markdown": [
       "<h1 style='color:#0081B4'>[strong] col-xs-12 SessionTimeInfo</h1>"
      ],
      "text/plain": [
       "<IPython.core.display.Markdown object>"
      ]
     },
     "metadata": {},
     "output_type": "display_data"
    },
    {
     "data": {
      "text/plain": [
       "<div class=\"col-xs-12 SessionTimeInfo\">\n",
       "<div class=\"col-xs-0\">\n",
       "                09:00\n",
       "            </div>\n",
       "<div class=\"col-xs-0\">\n",
       "                22:00\n",
       "            </div>\n",
       "</div>"
      ]
     },
     "metadata": {},
     "output_type": "display_data"
    },
    {
     "data": {
      "text/markdown": [
       "<h1 style='color:#0081B4'>[strong] col-xs-12 SessionTimeInfo</h1>"
      ],
      "text/plain": [
       "<IPython.core.display.Markdown object>"
      ]
     },
     "metadata": {},
     "output_type": "display_data"
    },
    {
     "data": {
      "text/plain": [
       "<div class=\"col-xs-12 SessionTimeInfo\">\n",
       "<div class=\"col-xs-0\">\n",
       "                22:00\n",
       "            </div>\n",
       "</div>"
      ]
     },
     "metadata": {},
     "output_type": "display_data"
    }
   ],
   "source": [
    "\n",
    "\n",
    "for move_name_strong in soup.find_all(\"strong\",{\"class\", \"col-xs-12 LangTW MovieName\"})[:1]:\n",
    "    \n",
    "    movie_name = move_name_strong.get_text().strip() # 電影名稱\n",
    "    \n",
    "    display(Markdown(\"<h1 style='color:#0081B4'>[strong] col-xs-12 LangTW MovieName</h1>\"))\n",
    "    display(move_name_strong)\n",
    "    display(Markdown(\"<h2 style='color:#0081B4'>電影名稱 get_text</h2>\"))\n",
    "    display(movie_name)\n",
    "    \n",
    "    time_info_div = move_name_strong.find_next_sibling(\"div\")\n",
    "    \n",
    "    display(Markdown(\"<h1 style='color:#FF7B54'>time_info_div</h1>\"))\n",
    "    display(time_info_div)\n",
    "    \n",
    "    show_dates = time_info_div.findChildren(\"strong\", {\"class\", \"col-xs-12 LangTW RealShowDate\"})\n",
    "    \n",
    "    display(Markdown(\"<h1 style='color:#0081B4'>[strong] col-xs-12 LangTW RealShowDate</h1>\"))\n",
    "    display(show_dates)\n",
    "    \n",
    "    for show_date in show_dates:\n",
    "        show_times = show_date.find_next_sibling(\"div\", {\"class\", \"col-xs-12 SessionTimeInfo\"})\n",
    "        \n",
    "        display(Markdown(\"<h1 style='color:#0081B4'>[strong] col-xs-12 SessionTimeInfo</h1>\"))\n",
    "        display(show_times)\n",
    "        \n",
    "        for show_time in show_times.findChildren(\"div\"):\n",
    "            \n",
    "            show_date_string = show_date.get_text().strip() # 播出日期\n",
    "            show_time_string = show_time.get_text().strip() # 時間\n",
    "            data.append([movie_name, show_date_string, show_time_string])\n",
    " "
   ]
  },
  {
   "cell_type": "code",
   "execution_count": 5,
   "id": "0ef1239d-f82f-4c46-ae49-589ee9016094",
   "metadata": {},
   "outputs": [
    {
     "name": "stdout",
     "output_type": "stream",
     "text": [
      "[['(3D 數位)阿凡達：水之道 (保護級)', '01月18日 星期三', '09:00'], ['(3D 數位)阿凡達：水之道 (保護級)', '01月18日 星期三', '22:00'], ['(3D 數位)阿凡達：水之道 (保護級)', '01月19日 星期四', '22:00']]\n"
     ]
    }
   ],
   "source": [
    "print(data[:3])"
   ]
  },
  {
   "cell_type": "code",
   "execution_count": 6,
   "id": "af7501c5-29cb-4bb8-a183-8bceed5b44ed",
   "metadata": {},
   "outputs": [
    {
     "data": {
      "text/html": [
       "<div>\n",
       "<style scoped>\n",
       "    .dataframe tbody tr th:only-of-type {\n",
       "        vertical-align: middle;\n",
       "    }\n",
       "\n",
       "    .dataframe tbody tr th {\n",
       "        vertical-align: top;\n",
       "    }\n",
       "\n",
       "    .dataframe thead th {\n",
       "        text-align: right;\n",
       "    }\n",
       "</style>\n",
       "<table border=\"1\" class=\"dataframe\">\n",
       "  <thead>\n",
       "    <tr style=\"text-align: right;\">\n",
       "      <th></th>\n",
       "      <th>Movie Name</th>\n",
       "      <th>Date</th>\n",
       "      <th>Time</th>\n",
       "    </tr>\n",
       "  </thead>\n",
       "  <tbody>\n",
       "    <tr>\n",
       "      <th>0</th>\n",
       "      <td>(3D 數位)阿凡達：水之道 (保護級)</td>\n",
       "      <td>01月18日 星期三</td>\n",
       "      <td>09:00</td>\n",
       "    </tr>\n",
       "    <tr>\n",
       "      <th>1</th>\n",
       "      <td>(3D 數位)阿凡達：水之道 (保護級)</td>\n",
       "      <td>01月18日 星期三</td>\n",
       "      <td>22:00</td>\n",
       "    </tr>\n",
       "    <tr>\n",
       "      <th>2</th>\n",
       "      <td>(3D 數位)阿凡達：水之道 (保護級)</td>\n",
       "      <td>01月19日 星期四</td>\n",
       "      <td>22:00</td>\n",
       "    </tr>\n",
       "    <tr>\n",
       "      <th>3</th>\n",
       "      <td>(4DX 3D)阿凡達：水之道 (保護級)</td>\n",
       "      <td>01月17日 星期二</td>\n",
       "      <td>23:00</td>\n",
       "    </tr>\n",
       "    <tr>\n",
       "      <th>4</th>\n",
       "      <td>(4DX 3D)阿凡達：水之道 (保護級)</td>\n",
       "      <td>01月18日 星期三</td>\n",
       "      <td>12:30</td>\n",
       "    </tr>\n",
       "    <tr>\n",
       "      <th>...</th>\n",
       "      <td>...</td>\n",
       "      <td>...</td>\n",
       "      <td>...</td>\n",
       "    </tr>\n",
       "    <tr>\n",
       "      <th>287</th>\n",
       "      <td>(PRE)BTS：YET TO COME IN CINEMAS (普遍級)</td>\n",
       "      <td>02月05日 星期日</td>\n",
       "      <td>21:00</td>\n",
       "    </tr>\n",
       "    <tr>\n",
       "      <th>288</th>\n",
       "      <td>(PRE)BTS：YET TO COME IN CINEMAS (普遍級)</td>\n",
       "      <td>02月05日 星期日</td>\n",
       "      <td>23:00</td>\n",
       "    </tr>\n",
       "    <tr>\n",
       "      <th>289</th>\n",
       "      <td>(3D 數位)阿凡達：水之道 (保護級)</td>\n",
       "      <td>01月18日 星期三</td>\n",
       "      <td>09:00</td>\n",
       "    </tr>\n",
       "    <tr>\n",
       "      <th>290</th>\n",
       "      <td>(3D 數位)阿凡達：水之道 (保護級)</td>\n",
       "      <td>01月18日 星期三</td>\n",
       "      <td>22:00</td>\n",
       "    </tr>\n",
       "    <tr>\n",
       "      <th>291</th>\n",
       "      <td>(3D 數位)阿凡達：水之道 (保護級)</td>\n",
       "      <td>01月19日 星期四</td>\n",
       "      <td>22:00</td>\n",
       "    </tr>\n",
       "  </tbody>\n",
       "</table>\n",
       "<p>292 rows × 3 columns</p>\n",
       "</div>"
      ],
      "text/plain": [
       "                                Movie Name        Date   Time\n",
       "0                     (3D 數位)阿凡達：水之道 (保護級)  01月18日 星期三  09:00\n",
       "1                     (3D 數位)阿凡達：水之道 (保護級)  01月18日 星期三  22:00\n",
       "2                     (3D 數位)阿凡達：水之道 (保護級)  01月19日 星期四  22:00\n",
       "3                    (4DX 3D)阿凡達：水之道 (保護級)  01月17日 星期二  23:00\n",
       "4                    (4DX 3D)阿凡達：水之道 (保護級)  01月18日 星期三  12:30\n",
       "..                                     ...         ...    ...\n",
       "287  (PRE)BTS：YET TO COME IN CINEMAS (普遍級)  02月05日 星期日  21:00\n",
       "288  (PRE)BTS：YET TO COME IN CINEMAS (普遍級)  02月05日 星期日  23:00\n",
       "289                   (3D 數位)阿凡達：水之道 (保護級)  01月18日 星期三  09:00\n",
       "290                   (3D 數位)阿凡達：水之道 (保護級)  01月18日 星期三  22:00\n",
       "291                   (3D 數位)阿凡達：水之道 (保護級)  01月19日 星期四  22:00\n",
       "\n",
       "[292 rows x 3 columns]"
      ]
     },
     "metadata": {},
     "output_type": "display_data"
    }
   ],
   "source": [
    "df = pd.DataFrame(data, columns=['Movie Name', 'Date', 'Time'])\n",
    "display(df)"
   ]
  },
  {
   "cell_type": "code",
   "execution_count": null,
   "id": "45f79026-5343-4d74-9015-0c3aa62cc87f",
   "metadata": {},
   "outputs": [],
   "source": []
  }
 ],
 "metadata": {
  "kernelspec": {
   "display_name": "Python 3 (ipykernel)",
   "language": "python",
   "name": "python3"
  },
  "language_info": {
   "codemirror_mode": {
    "name": "ipython",
    "version": 3
   },
   "file_extension": ".py",
   "mimetype": "text/x-python",
   "name": "python",
   "nbconvert_exporter": "python",
   "pygments_lexer": "ipython3",
   "version": "3.10.6"
  }
 },
 "nbformat": 4,
 "nbformat_minor": 5
}
